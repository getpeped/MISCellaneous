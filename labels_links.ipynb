{
 "cells": [
  {
   "cell_type": "code",
   "execution_count": null,
   "metadata": {},
   "outputs": [],
   "source": [
    "import os\n",
    "import pandas as pd\n",
    "from openpyxl import Workbook\n",
    "from openpyxl.styles import Font\n",
    "\n",
    "folder = r'C:\\Users\\a\\Desktop\\etykiety'\n",
    "xls_path = os.path.join(folder, 'etykiety.xls')\n",
    "output_path = os.path.join(folder, 'etykiety_z_linkami.xlsx')\n",
    "\n",
    "# 1. Wczytaj dane z pliku .xls (bez formatów)\n",
    "df = pd.read_excel(xls_path, engine='xlrd')\n",
    "\n",
    "# 2. Pobierz pliki PDF\n",
    "pdf_files = sorted([f for f in os.listdir(folder) if f.lower().endswith('.pdf')])\n",
    "\n",
    "# 3. Sprawdź, czy jest wystarczająco plików PDF\n",
    "nazwy = df['Kod'].dropna().tolist()\n",
    "if len(pdf_files) < len(nazwy):\n",
    "    raise ValueError(\"Za mało plików PDF względem liczby nazw w kolumnie 'Kod'.\")\n",
    "\n",
    "# 4. Utwórz nowy skoroszyt Excel\n",
    "wb = Workbook()\n",
    "ws = wb.active\n",
    "ws.title = \"Etykiety\"\n",
    "\n",
    "# 5. Zapisz dane z DataFrame do Excela (bez formatów)\n",
    "for r_idx, row in enumerate(df.itertuples(index=False), 1):\n",
    "    for c_idx, value in enumerate(row, 1):\n",
    "        ws.cell(row=r_idx+1, column=c_idx, value=value)  # +1, bo pierwszy wiersz na nagłówek\n",
    "\n",
    "# 6. Zapisz nagłówki (kolumny)\n",
    "for c_idx, col_name in enumerate(df.columns, 1):\n",
    "    ws.cell(row=1, column=c_idx, value=col_name)\n",
    "\n",
    "# 7. Znajdź numer kolumny 'Kod'\n",
    "kod_col_idx = df.columns.get_loc('Kod') + 1  # +1 bo openpyxl liczy od 1\n",
    "\n",
    "# 8. Dodaj linki do plików PDF w kolumnie 'Kod' (od wiersza 2)\n",
    "for i, pdf in enumerate(pdf_files, start=2):\n",
    "    cell = ws.cell(row=i, column=kod_col_idx)\n",
    "    if cell.value:\n",
    "        cell.hyperlink = pdf\n",
    "        cell.font = Font(color=\"0000FF\", underline=\"single\")\n",
    "\n",
    "# 9. Zapisz nowy plik\n",
    "wb.save(output_path)\n",
    "print(f\"✔ Gotowe! Zapisano plik: {output_path}\")\n"
   ]
  }
 ],
 "metadata": {
  "kernelspec": {
   "display_name": "Python 3.8.8 ('base')",
   "language": "python",
   "name": "python3"
  },
  "language_info": {
   "name": "python",
   "version": "3.8.8"
  },
  "orig_nbformat": 4,
  "vscode": {
   "interpreter": {
    "hash": "0ed8b1f1204e3ec9fd00160a1836bd979d4552f7e99d1a18dc9610716eedd92b"
   }
  }
 },
 "nbformat": 4,
 "nbformat_minor": 2
}
